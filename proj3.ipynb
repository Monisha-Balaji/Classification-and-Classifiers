{
 "cells": [
  {
   "cell_type": "code",
   "execution_count": 2,
   "metadata": {},
   "outputs": [
    {
     "name": "stderr",
     "output_type": "stream",
     "text": [
      "Using TensorFlow backend.\n"
     ]
    }
   ],
   "source": [
    "import pickle\n",
    "import gzip\n",
    "from PIL import Image\n",
    "import os\n",
    "import numpy as np\n",
    "import matplotlib.pyplot as plt\n",
    "import seaborn as sns\n",
    "import pandas as pd\n",
    "from tabulate import tabulate\n",
    "from keras.models import Sequential, load_model\n",
    "from keras.layers import *\n",
    "from keras.callbacks import EarlyStopping, TensorBoard\n",
    "from keras.activations import *\n",
    "from keras.utils import to_categorical\n",
    "from keras import optimizers\n",
    "from keras.optimizers import *\n",
    "from sklearn.ensemble import RandomForestClassifier, ExtraTreesClassifier\n",
    "from sklearn.metrics import confusion_matrix\n",
    "from sklearn.svm import LinearSVC, SVC\n",
    "from collections import Counter\n",
    "import itertools"
   ]
  },
  {
   "cell_type": "markdown",
   "metadata": {},
   "source": [
    "## Load MNIST on Python 3.x\n"
   ]
  },
  {
   "cell_type": "code",
   "execution_count": 3,
   "metadata": {},
   "outputs": [],
   "source": [
    "filename = 'mnist.pkl.gz'\n",
    "f = gzip.open(filename, 'rb')\n",
    "training_data, validation_data, test_data = pickle.load(f, encoding='latin1')\n",
    "f.close()"
   ]
  },
  {
   "cell_type": "markdown",
   "metadata": {},
   "source": [
    "## Load USPS on Python 3.x"
   ]
  },
  {
   "cell_type": "code",
   "execution_count": 4,
   "metadata": {},
   "outputs": [],
   "source": [
    "USPSMat  = []\n",
    "USPSTar  = []\n",
    "curPath  = 'C:/Users/Monisha Balaji/Downloads/USPSdata/USPSdata/Numerals'\n",
    "savedImg = []\n",
    "\n",
    "for j in range(0,10):\n",
    "    curFolderPath = curPath + '/' + str(j)\n",
    "    imgs =  os.listdir(curFolderPath)\n",
    "    for img in imgs:\n",
    "        curImg = curFolderPath + '/' + img\n",
    "        if curImg[-3:] == 'png':\n",
    "            img = Image.open(curImg,'r')\n",
    "            img = img.resize((28, 28))\n",
    "            savedImg = img\n",
    "            imgdata = (255-np.array(img.getdata()))/255\n",
    "            USPSMat.append(imgdata)\n",
    "            USPSTar.append(j)"
   ]
  },
  {
   "cell_type": "markdown",
   "metadata": {},
   "source": [
    "## DEEP NEURAL NETWORK"
   ]
  },
  {
   "cell_type": "code",
   "execution_count": 6,
   "metadata": {},
   "outputs": [
    {
     "data": {
      "text/plain": [
       "(50000, 784)"
      ]
     },
     "execution_count": 6,
     "metadata": {},
     "output_type": "execute_result"
    }
   ],
   "source": [
    "# Process the MNIST data\n",
    "train_f, train_label = training_data\n",
    "train_label_en = to_categorical(train_label)\n",
    "val_f, val_label = validation_data\n",
    "val_label_en = to_categorical(val_label)\n",
    "test_f, test_label = test_data\n",
    "test_label_en = to_categorical(test_label)\n",
    "train_f.shape"
   ]
  },
  {
   "cell_type": "code",
   "execution_count": 7,
   "metadata": {},
   "outputs": [
    {
     "data": {
      "text/plain": [
       "(19999,)"
      ]
     },
     "execution_count": 7,
     "metadata": {},
     "output_type": "execute_result"
    }
   ],
   "source": [
    "#Process the USPS data\n",
    "usps_tf  = np.array(USPSMat) \n",
    "usps_tlabel  = np.array(USPSTar)\n",
    "usps_tlabel_en = to_categorical(usps_tlabel)\n",
    "usps_tlabel.shape"
   ]
  },
  {
   "cell_type": "code",
   "execution_count": 6,
   "metadata": {},
   "outputs": [],
   "source": [
    "def generate_model():\n",
    "    input_shape=train_f[1].shape\n",
    "    layers=[100, 50, 25]\n",
    "    dropout=0.2\n",
    "    model = Sequential()\n",
    "    model.add(Dense(layers[0], activation='relu',input_shape=input_shape))\n",
    "    model.add(Dropout(dropout))\n",
    "    model.add(Dense(layers[1], activation='relu',input_shape=input_shape))\n",
    "    model.add(Dropout(dropout))\n",
    "    model.add(Dense(layers[2], activation='relu',input_shape=input_shape))\n",
    "    model.add(Dropout(dropout))\n",
    "    model.pop()\n",
    "    model.add(Dense(10, activation='softmax'))\n",
    "    model.summary()\n",
    "    sgd = optimizers.SGD(lr=0.01)\n",
    "    model.compile(optimizer=sgd, loss=K.categorical_crossentropy,\n",
    "                  metrics=['accuracy'])\n",
    "    return model"
   ]
  },
  {
   "cell_type": "code",
   "execution_count": 7,
   "metadata": {},
   "outputs": [],
   "source": [
    "def train_model():\n",
    "    dnn=generate_model()\n",
    "    num_epochs= 20\n",
    "    # Creating callbacks\n",
    "    ten_cb = TensorBoard(log_dir='./logs/dnn', histogram_freq=0, batch_size=32, write_graph=True)\n",
    "    early_stop = EarlyStopping(monitor='val_loss', min_delta=10, patience=100, verbose=1, mode='auto', baseline=None)\n",
    "    \n",
    "    history = dnn.fit(train_f\n",
    "                        , train_label_en\n",
    "                        , validation_data=[val_f, val_label_en]\n",
    "                        , epochs=num_epochs\n",
    "                        , callbacks = [ten_cb,early_stop])\n",
    "    return dnn"
   ]
  },
  {
   "cell_type": "code",
   "execution_count": 8,
   "metadata": {},
   "outputs": [],
   "source": [
    "def evaluate_model(dnn, test_f, test_label_en,test_label):\n",
    "    loss, acc = dnn.evaluate(test_f, test_label_en)\n",
    "    print(\"Test Loss:\", loss)\n",
    "    print(\"Test Accuracy:\", acc * 100.)\n",
    "    pred_test=dnn.predict_classes(test_f)\n",
    "    cm = confusion_matrix(test_label, pred_test)\n",
    "    print(cm)\n",
    "    return cm"
   ]
  },
  {
   "cell_type": "code",
   "execution_count": 9,
   "metadata": {},
   "outputs": [],
   "source": [
    "def evaluate(dnn, test_f, test_label_en,test_label):\n",
    "    loss, acc = dnn.evaluate(test_f, test_label_en)\n",
    "    print(\"Test Loss:\", loss)\n",
    "    print(\"Test Accuracy:\", acc * 100.)\n",
    "    pred_test=dnn.predict_classes(test_f)"
   ]
  },
  {
   "cell_type": "code",
   "execution_count": 10,
   "metadata": {},
   "outputs": [
    {
     "name": "stdout",
     "output_type": "stream",
     "text": [
      "_________________________________________________________________\n",
      "Layer (type)                 Output Shape              Param #   \n",
      "=================================================================\n",
      "dense_1 (Dense)              (None, 100)               78500     \n",
      "_________________________________________________________________\n",
      "dropout_1 (Dropout)          (None, 100)               0         \n",
      "_________________________________________________________________\n",
      "dense_2 (Dense)              (None, 50)                5050      \n",
      "_________________________________________________________________\n",
      "dropout_2 (Dropout)          (None, 50)                0         \n",
      "_________________________________________________________________\n",
      "dense_3 (Dense)              (None, 25)                1275      \n",
      "_________________________________________________________________\n",
      "dense_4 (Dense)              (None, 10)                260       \n",
      "=================================================================\n",
      "Total params: 85,085\n",
      "Trainable params: 85,085\n",
      "Non-trainable params: 0\n",
      "_________________________________________________________________\n",
      "Train on 50000 samples, validate on 10000 samples\n",
      "Epoch 1/20\n",
      "50000/50000 [==============================] - 6s 123us/step - loss: 1.1627 - acc: 0.6120 - val_loss: 0.4305 - val_acc: 0.8803\n",
      "Epoch 2/20\n",
      "50000/50000 [==============================] - 6s 122us/step - loss: 0.5171 - acc: 0.8405 - val_loss: 0.2811 - val_acc: 0.9181\n",
      "Epoch 3/20\n",
      "50000/50000 [==============================] - 6s 114us/step - loss: 0.3907 - acc: 0.8828 - val_loss: 0.2279 - val_acc: 0.9314\n",
      "Epoch 4/20\n",
      "50000/50000 [==============================] - 6s 118us/step - loss: 0.3302 - acc: 0.9014 - val_loss: 0.1912 - val_acc: 0.9427\n",
      "Epoch 5/20\n",
      "50000/50000 [==============================] - 6s 119us/step - loss: 0.2879 - acc: 0.9135 - val_loss: 0.1712 - val_acc: 0.9488\n",
      "Epoch 6/20\n",
      "50000/50000 [==============================] - 6s 117us/step - loss: 0.2587 - acc: 0.9237 - val_loss: 0.1571 - val_acc: 0.9514\n",
      "Epoch 7/20\n",
      "50000/50000 [==============================] - 6s 117us/step - loss: 0.2380 - acc: 0.9282 - val_loss: 0.1474 - val_acc: 0.9543\n",
      "Epoch 8/20\n",
      "50000/50000 [==============================] - 6s 117us/step - loss: 0.2219 - acc: 0.9332 - val_loss: 0.1343 - val_acc: 0.9601\n",
      "Epoch 9/20\n",
      "50000/50000 [==============================] - 6s 117us/step - loss: 0.2054 - acc: 0.9381 - val_loss: 0.1284 - val_acc: 0.9614\n",
      "Epoch 10/20\n",
      "50000/50000 [==============================] - 6s 116us/step - loss: 0.1928 - acc: 0.9421 - val_loss: 0.1186 - val_acc: 0.9657\n",
      "Epoch 11/20\n",
      "50000/50000 [==============================] - 6s 117us/step - loss: 0.1813 - acc: 0.9453 - val_loss: 0.1166 - val_acc: 0.9663\n",
      "Epoch 12/20\n",
      "50000/50000 [==============================] - 6s 114us/step - loss: 0.1749 - acc: 0.9476 - val_loss: 0.1111 - val_acc: 0.9686\n",
      "Epoch 13/20\n",
      "50000/50000 [==============================] - 6s 117us/step - loss: 0.1654 - acc: 0.9508 - val_loss: 0.1075 - val_acc: 0.9684\n",
      "Epoch 14/20\n",
      "50000/50000 [==============================] - 5s 109us/step - loss: 0.1601 - acc: 0.9524 - val_loss: 0.1054 - val_acc: 0.9695\n",
      "Epoch 15/20\n",
      "50000/50000 [==============================] - 6s 118us/step - loss: 0.1504 - acc: 0.9546 - val_loss: 0.1029 - val_acc: 0.9702\n",
      "Epoch 16/20\n",
      "50000/50000 [==============================] - 6s 113us/step - loss: 0.1459 - acc: 0.9565 - val_loss: 0.0998 - val_acc: 0.9709\n",
      "Epoch 17/20\n",
      "50000/50000 [==============================] - 6s 114us/step - loss: 0.1414 - acc: 0.9566 - val_loss: 0.0974 - val_acc: 0.9718\n",
      "Epoch 18/20\n",
      "50000/50000 [==============================] - 6s 119us/step - loss: 0.1350 - acc: 0.9599 - val_loss: 0.0979 - val_acc: 0.9716\n",
      "Epoch 19/20\n",
      "50000/50000 [==============================] - 6s 120us/step - loss: 0.1308 - acc: 0.9604 - val_loss: 0.0958 - val_acc: 0.9719\n",
      "Epoch 20/20\n",
      "50000/50000 [==============================] - 6s 120us/step - loss: 0.1281 - acc: 0.9623 - val_loss: 0.0895 - val_acc: 0.9733\n",
      "10000/10000 [==============================] - 0s 41us/step\n",
      "Test Loss: 0.09369058983325958\n",
      "Test Accuracy: 97.02\n",
      "[[ 970    0    0    1    0    2    2    2    2    1]\n",
      " [   0 1120    2    2    0    0    3    1    7    0]\n",
      " [   5    2  997    8    4    0    4    7    5    0]\n",
      " [   0    0    8  987    0    4    0    6    5    0]\n",
      " [   1    0    5    0  949    0    4    1    2   20]\n",
      " [   4    1    0    7    1  864    6    0    5    4]\n",
      " [   5    3    1    1   10   10  922    0    6    0]\n",
      " [   2    3   17    2    2    0    0  986    3   13]\n",
      " [   1    1    4    9    4    3    4    4  942    2]\n",
      " [   3    3    1    7    9    4    2    9    6  965]]\n"
     ]
    }
   ],
   "source": [
    "# Train and Run the Deep Neural Network model\n",
    "dnn = train_model()\n",
    "conf_m = evaluate_model(dnn,test_f, test_label_en,test_label)\n"
   ]
  },
  {
   "cell_type": "code",
   "execution_count": 11,
   "metadata": {},
   "outputs": [
    {
     "name": "stdout",
     "output_type": "stream",
     "text": [
      "19999/19999 [==============================] - 1s 42us/step\n",
      "Test Loss: 2.5917686816543166\n",
      "Test Accuracy: 45.86229311376162\n"
     ]
    }
   ],
   "source": [
    "evaluate(dnn,usps_tf, usps_tlabel_en,usps_tlabel_en)"
   ]
  },
  {
   "cell_type": "code",
   "execution_count": 9,
   "metadata": {},
   "outputs": [],
   "source": [
    "def plot_confusion_matrix(cm, classes,\n",
    "                          normalize=False,\n",
    "                          title='Confusion matrix',\n",
    "                          cmap=plt.cm.Blues):\n",
    "    \"\"\"\n",
    "    This function prints and plots the confusion matrix.\n",
    "    Normalization can be applied by setting `normalize=True`.\n",
    "    \"\"\"\n",
    "    if normalize:\n",
    "        cm = cm.astype('float') / cm.sum(axis=1)[:, np.newaxis]\n",
    "        print(\"Normalized confusion matrix\")\n",
    "    else:\n",
    "        print('Confusion matrix, without normalization')\n",
    "\n",
    "    print(cm)\n",
    "\n",
    "    plt.imshow(cm, interpolation='nearest', cmap=cmap)\n",
    "    plt.title(title)\n",
    "    plt.colorbar()\n",
    "    tick_marks = np.arange(len(classes))\n",
    "    plt.xticks(tick_marks, classes, rotation=45)\n",
    "    plt.yticks(tick_marks, classes)\n",
    "\n",
    "    fmt = '.2f' if normalize else 'd'\n",
    "    thresh = cm.max() / 2.\n",
    "    for i, j in itertools.product(range(cm.shape[0]), range(cm.shape[1])):\n",
    "        plt.text(j, i, format(cm[i, j], fmt),\n",
    "                 horizontalalignment=\"center\",\n",
    "                 color=\"white\" if cm[i, j] > thresh else \"black\")\n",
    "\n",
    "    plt.ylabel('True label')\n",
    "    plt.xlabel('Predicted label')\n",
    "    plt.tight_layout()\n",
    "\n"
   ]
  },
  {
   "cell_type": "code",
   "execution_count": 13,
   "metadata": {},
   "outputs": [
    {
     "name": "stdout",
     "output_type": "stream",
     "text": [
      "Normalized confusion matrix\n",
      "[[9.89795918e-01 0.00000000e+00 0.00000000e+00 1.02040816e-03\n",
      "  0.00000000e+00 2.04081633e-03 2.04081633e-03 2.04081633e-03\n",
      "  2.04081633e-03 1.02040816e-03]\n",
      " [0.00000000e+00 9.86784141e-01 1.76211454e-03 1.76211454e-03\n",
      "  0.00000000e+00 0.00000000e+00 2.64317181e-03 8.81057269e-04\n",
      "  6.16740088e-03 0.00000000e+00]\n",
      " [4.84496124e-03 1.93798450e-03 9.66085271e-01 7.75193798e-03\n",
      "  3.87596899e-03 0.00000000e+00 3.87596899e-03 6.78294574e-03\n",
      "  4.84496124e-03 0.00000000e+00]\n",
      " [0.00000000e+00 0.00000000e+00 7.92079208e-03 9.77227723e-01\n",
      "  0.00000000e+00 3.96039604e-03 0.00000000e+00 5.94059406e-03\n",
      "  4.95049505e-03 0.00000000e+00]\n",
      " [1.01832994e-03 0.00000000e+00 5.09164969e-03 0.00000000e+00\n",
      "  9.66395112e-01 0.00000000e+00 4.07331976e-03 1.01832994e-03\n",
      "  2.03665988e-03 2.03665988e-02]\n",
      " [4.48430493e-03 1.12107623e-03 0.00000000e+00 7.84753363e-03\n",
      "  1.12107623e-03 9.68609865e-01 6.72645740e-03 0.00000000e+00\n",
      "  5.60538117e-03 4.48430493e-03]\n",
      " [5.21920668e-03 3.13152401e-03 1.04384134e-03 1.04384134e-03\n",
      "  1.04384134e-02 1.04384134e-02 9.62421712e-01 0.00000000e+00\n",
      "  6.26304802e-03 0.00000000e+00]\n",
      " [1.94552529e-03 2.91828794e-03 1.65369650e-02 1.94552529e-03\n",
      "  1.94552529e-03 0.00000000e+00 0.00000000e+00 9.59143969e-01\n",
      "  2.91828794e-03 1.26459144e-02]\n",
      " [1.02669405e-03 1.02669405e-03 4.10677618e-03 9.24024641e-03\n",
      "  4.10677618e-03 3.08008214e-03 4.10677618e-03 4.10677618e-03\n",
      "  9.67145791e-01 2.05338809e-03]\n",
      " [2.97324083e-03 2.97324083e-03 9.91080278e-04 6.93756194e-03\n",
      "  8.91972250e-03 3.96432111e-03 1.98216056e-03 8.91972250e-03\n",
      "  5.94648167e-03 9.56392468e-01]]\n"
     ]
    },
    {
     "data": {
      "image/png": "[encoded data removed]",
      "text/plain": [
       "<Figure size 432x288 with 2 Axes>"
      ]
     },
     "metadata": {},
     "output_type": "display_data"
    }
   ],
   "source": [
    "class_n = np.arange(0,10)\n",
    "plot_confusion_matrix(conf_m, classes=class_n, normalize=True,\n",
    "                      title='Normalized confusion matrix')"
   ]
  },
  {
   "cell_type": "code",
   "execution_count": 14,
   "metadata": {},
   "outputs": [
    {
     "data": {
      "image/png": "[encoded data removed]",
      "text/plain": [
       "<Figure size 432x288 with 1 Axes>"
      ]
     },
     "metadata": {},
     "output_type": "display_data"
    }
   ],
   "source": [
    "plt.plot([1,5,10,15,20],[64.29,91.76,94.47,95.57,96.19 ],'ro')\n",
    "plt.ylabel('Accuracy')\n",
    "plt.xlabel(\"No of Epochs\")\n",
    "plt.title(\"No of Epochs VS Accuracy Plot For DNN\")\n",
    "plt.show()"
   ]
  },
  {
   "cell_type": "markdown",
   "metadata": {},
   "source": [
    "## CONVOLUTIONAL NEURAL NETWORK"
   ]
  },
  {
   "cell_type": "code",
   "execution_count": 15,
   "metadata": {},
   "outputs": [],
   "source": [
    "conv_shape = [-1, 28, 28, 1]\n",
    "train_f = train_f.reshape(conv_shape)\n",
    "val_f = val_f.reshape(conv_shape)"
   ]
  },
  {
   "cell_type": "code",
   "execution_count": 16,
   "metadata": {},
   "outputs": [],
   "source": [
    "def generate_cnn():\n",
    "    input_shape=[28, 28, 1]\n",
    "    dropout=0.2\n",
    "    model = Sequential()\n",
    "    model.add(Conv2D(32, (3, 3), activation='relu', input_shape=input_shape))\n",
    "    model.add(Dropout(dropout))\n",
    "    model.add(MaxPool2D(2, 2))\n",
    "    model.add(Conv2D(16, (3, 3), activation='relu'))\n",
    "    model.add(Dropout(dropout))\n",
    "    model.add(MaxPool2D(2, 2))\n",
    "    model.add(Conv2D(8, (3, 3), activation='relu'))\n",
    "    model.add(Dropout(dropout))\n",
    "    model.add(Flatten())\n",
    "    model.add(Dense(100, activation='relu'))\n",
    "    model.add(Dense(10, activation='softmax'))\n",
    "    model.summary()\n",
    "    sgd = optimizers.SGD(lr=0.01)\n",
    "    model.compile(optimizer=sgd, loss=K.categorical_crossentropy,\n",
    "                  metrics=['accuracy'])\n",
    "    return model"
   ]
  },
  {
   "cell_type": "code",
   "execution_count": 17,
   "metadata": {},
   "outputs": [],
   "source": [
    "def train_cnn():\n",
    "    cnn=generate_cnn()\n",
    "    num_epochs= 10\n",
    "    # Creating callbacks\n",
    "    ten_cb = TensorBoard(log_dir='./logs/dnn', histogram_freq=0, batch_size=32, write_graph=True)\n",
    "    #early_stop = EarlyStopping(monitor='val_loss', min_delta=10, patience=100, verbose=1, mode='auto', baseline=None)\n",
    "    \n",
    "    history = cnn.fit(train_f\n",
    "                        , train_label_en\n",
    "                        , validation_data=[val_f, val_label_en]\n",
    "                        , epochs=num_epochs\n",
    "                        , batch_size= 256\n",
    "                        , callbacks = [ten_cb])\n",
    "    return cnn"
   ]
  },
  {
   "cell_type": "code",
   "execution_count": null,
   "metadata": {},
   "outputs": [
    {
     "name": "stdout",
     "output_type": "stream",
     "text": [
      "_________________________________________________________________\n",
      "Layer (type)                 Output Shape              Param #   \n",
      "=================================================================\n",
      "conv2d_1 (Conv2D)            (None, 26, 26, 32)        320       \n",
      "_________________________________________________________________\n",
      "dropout_4 (Dropout)          (None, 26, 26, 32)        0         \n",
      "_________________________________________________________________\n",
      "max_pooling2d_1 (MaxPooling2 (None, 13, 13, 32)        0         \n",
      "_________________________________________________________________\n",
      "conv2d_2 (Conv2D)            (None, 11, 11, 16)        4624      \n",
      "_________________________________________________________________\n",
      "dropout_5 (Dropout)          (None, 11, 11, 16)        0         \n",
      "_________________________________________________________________\n",
      "max_pooling2d_2 (MaxPooling2 (None, 5, 5, 16)          0         \n",
      "_________________________________________________________________\n",
      "conv2d_3 (Conv2D)            (None, 3, 3, 8)           1160      \n",
      "_________________________________________________________________\n",
      "dropout_6 (Dropout)          (None, 3, 3, 8)           0         \n",
      "_________________________________________________________________\n",
      "flatten_1 (Flatten)          (None, 72)                0         \n",
      "_________________________________________________________________\n",
      "dense_5 (Dense)              (None, 100)               7300      \n",
      "_________________________________________________________________\n",
      "dense_6 (Dense)              (None, 10)                1010      \n",
      "=================================================================\n",
      "Total params: 14,414\n",
      "Trainable params: 14,414\n",
      "Non-trainable params: 0\n",
      "_________________________________________________________________\n",
      "Train on 50000 samples, validate on 10000 samples\n",
      "Epoch 1/10\n",
      "50000/50000 [==============================] - 1316s 26ms/step - loss: 2.2698 - acc: 0.1926 - val_loss: 2.2268 - val_acc: 0.4168\n",
      "Epoch 2/10\n",
      "50000/50000 [==============================] - 1245s 25ms/step - loss: 1.9133 - acc: 0.3801 - val_loss: 1.4303 - val_acc: 0.6970\n",
      "Epoch 3/10\n",
      "50000/50000 [==============================] - 1221s 24ms/step - loss: 1.0461 - acc: 0.6615 - val_loss: 0.7173 - val_acc: 0.8448\n",
      "Epoch 4/10\n",
      "50000/50000 [==============================] - 1189s 24ms/step - loss: 0.6956 - acc: 0.7790 - val_loss: 0.5211 - val_acc: 0.8851\n",
      "Epoch 5/10\n",
      "50000/50000 [==============================] - 1183s 24ms/step - loss: 0.5603 - acc: 0.8210 - val_loss: 0.4159 - val_acc: 0.9086\n",
      "Epoch 6/10\n",
      "50000/50000 [==============================] - 1191s 24ms/step - loss: 0.4762 - acc: 0.8503 - val_loss: 0.3558 - val_acc: 0.9178\n",
      "Epoch 7/10\n",
      "15360/50000 [========>.....................] - ETA: 13:43 - loss: 0.4284 - acc: 0.8651"
     ]
    }
   ],
   "source": [
    "cnn = train_cnn()\n",
    "evaluate_model(cnn,test_f, test_label_en,test_label)"
   ]
  },
  {
   "cell_type": "code",
   "execution_count": null,
   "metadata": {},
   "outputs": [],
   "source": [
    "evaluate(cnn,usps_tf, usps_tlabel_en,usps_tlabel)"
   ]
  },
  {
   "cell_type": "code",
   "execution_count": 19,
   "metadata": {},
   "outputs": [
    {
     "data": {
      "image/png": "[encoded data removed]",
      "text/plain": [
       "<Figure size 432x288 with 1 Axes>"
      ]
     },
     "metadata": {},
     "output_type": "display_data"
    }
   ],
   "source": [
    "plt.plot([1,3,5,7,10],[23.92,73.55,83.93,86.60,88.01],'ro')\n",
    "plt.ylabel('Accuracy')\n",
    "plt.xlabel(\"No of Epochs\")\n",
    "plt.title(\"No of Epochs VS Accuracy Plot For CNN\")\n",
    "plt.show()"
   ]
  },
  {
   "cell_type": "code",
   "execution_count": 20,
   "metadata": {},
   "outputs": [
    {
     "data": {
      "image/png": "[encoded data removed]",
      "text/plain": [
       "<Figure size 432x288 with 1 Axes>"
      ]
     },
     "metadata": {},
     "output_type": "display_data"
    }
   ],
   "source": [
    "plt.plot([1,3,5,7,10],[22.30,8.24,5.72,4.64,3.78],'ro')\n",
    "plt.ylabel('Loss')\n",
    "plt.xlabel(\"No of Epochs\")\n",
    "plt.title(\"No of Epochs VS Loss Plot For CNN\")\n",
    "plt.show()"
   ]
  },
  {
   "cell_type": "markdown",
   "metadata": {},
   "source": [
    "## RANDOM FOREST"
   ]
  },
  {
   "cell_type": "code",
   "execution_count": 27,
   "metadata": {},
   "outputs": [],
   "source": [
    "train_f, train_label = training_data\n",
    "val_f, val_label = validation_data\n",
    "test_f, test_label = test_data"
   ]
  },
  {
   "cell_type": "code",
   "execution_count": 29,
   "metadata": {},
   "outputs": [
    {
     "name": "stdout",
     "output_type": "stream",
     "text": [
      "Val Accuracy: 94.97\n",
      "Test Accuracy: 94.39999999999999\n",
      "[[ 967    2    1    1    1    2    2    2    2    0]\n",
      " [   0 1119    5    2    0    2    2    0    4    1]\n",
      " [   8    2  980    6    5    2    5    9   15    0]\n",
      " [   3    2   21  942    0   12    1   12   12    5]\n",
      " [   2    2    7    1  932    2    7    2    6   21]\n",
      " [  13    2    2   30    7  817    3    4    9    5]\n",
      " [   8    3    3    0    7   12  916    0    9    0]\n",
      " [   3    5   26   11    2    1    0  964    2   14]\n",
      " [   3    3   18   17   12   12    7    5  884   13]\n",
      " [   6    5    3   18   32   11    1    9    5  919]]\n",
      "Val Accuracy: 96.09\n",
      "Test Accuracy: 95.78\n",
      "[[ 971    0    0    1    0    2    4    2    0    0]\n",
      " [   0 1122    1    3    0    1    4    1    3    0]\n",
      " [  10    1  986    8    3    2    2   11    8    1]\n",
      " [   1    1   16  960    0   12    0    7   11    2]\n",
      " [   1    0    5    0  945    0    4    1    5   21]\n",
      " [   7    1    7   20    2  837    4    2    8    4]\n",
      " [   6    3    0    1   10    4  930    0    4    0]\n",
      " [   1    5   26    6    2    1    1  973    1   12]\n",
      " [   6    0    7   12   10   10    8    4  906   11]\n",
      " [  10    5    1    5   14    9    1   10    6  948]]\n",
      "Val Accuracy: 96.91\n",
      "Test Accuracy: 96.64\n",
      "[[ 968    0    1    0    0    2    4    2    3    0]\n",
      " [   0 1122    4    3    1    1    3    0    1    0]\n",
      " [   6    0 1003    3    3    0    2    9    6    0]\n",
      " [   0    0    9  976    0    8    1    8    6    2]\n",
      " [   0    1    3    0  949    1    5    1    3   19]\n",
      " [   3    0    1   13    3  855    7    2    6    2]\n",
      " [   7    3    0    0    3    3  940    0    2    0]\n",
      " [   1    3   23    2    4    0    0  977    3   15]\n",
      " [   5    0    5   11    6    8    4    6  918   11]\n",
      " [   7    5    1   13    9    6    1    3    8  956]]\n",
      "Val Accuracy: 97.16\n",
      "Test Accuracy: 96.91\n",
      "[[ 969    0    0    0    0    2    4    1    3    1]\n",
      " [   0 1124    2    3    0    1    4    0    1    0]\n",
      " [   6    1  999    6    3    0    2    9    6    0]\n",
      " [   0    0   11  975    0    5    0    8    9    2]\n",
      " [   2    0    2    0  952    0    4    0    4   18]\n",
      " [   3    0    1   15    4  853    7    1    6    2]\n",
      " [   5    3    1    1    3    4  937    0    4    0]\n",
      " [   1    4   18    2    1    0    0  991    3    8]\n",
      " [   3    0    5   11    3    3    3    3  933   10]\n",
      " [   6    6    3   10   10    4    1    4    7  958]]\n",
      "Val Accuracy: 97.26\n",
      "Test Accuracy: 97.0\n",
      "[[ 969    0    1    0    0    2    4    1    2    1]\n",
      " [   0 1123    3    3    0    2    2    0    1    1]\n",
      " [   6    0  999    6    3    0    3    9    6    0]\n",
      " [   0    0   11  972    0    7    0    9    8    3]\n",
      " [   1    0    0    0  957    0    5    0    3   16]\n",
      " [   2    0    0   13    3  858    6    2    5    3]\n",
      " [   6    3    0    0    4    3  939    0    3    0]\n",
      " [   1    3   18    1    1    0    0  991    1   12]\n",
      " [   4    0    5    8    4    5    4    4  931    9]\n",
      " [   6    6    1   12   10    3    1    3    6  961]]\n",
      "Val Accuracy: 97.37\n",
      "Test Accuracy: 97.09\n",
      "[[ 969    0    1    0    0    3    3    1    3    0]\n",
      " [   0 1123    3    3    0    2    2    0    1    1]\n",
      " [   6    0 1000    5    3    0    4    8    6    0]\n",
      " [   0    0    9  977    0    4    0    9    9    2]\n",
      " [   1    0    1    0  955    0    5    0    2   18]\n",
      " [   2    0    0   13    2  860    7    2    4    2]\n",
      " [   6    3    1    0    2    3  940    0    3    0]\n",
      " [   1    2   17    1    1    0    0  996    1    9]\n",
      " [   4    0    6    9    3    5    4    3  930   10]\n",
      " [   6    5    3   10   11    3    1    5    6  959]]\n"
     ]
    }
   ],
   "source": [
    "forests=[10,20,50,100,200,500]\n",
    "for forest in forests:\n",
    "    classifier_rf = RandomForestClassifier(\n",
    "                n_estimators=forest, n_jobs=-1, verbose=0)\n",
    "    classifier_rf.fit(train_f, train_label)\n",
    "    rf_val = classifier_rf.predict(val_f)\n",
    "    #rf_val\n",
    "    print(\"Val Accuracy:\", np.mean(val_label == rf_val) * 100.)\n",
    "    rf_test = classifier_rf.predict(test_f)\n",
    "    print(\"Test Accuracy:\", np.mean(test_label == rf_test) * 100.)\n",
    "    rf_uspstest = classifier_rf.predict(usps_tf)\n",
    "    print(\"USPS Test Accuracy:\", np.mean(rf_uspstest == usps_tf) * 100.)\n",
    "    cm = confusion_matrix(test_label, rf_test)\n",
    "    print(cm)"
   ]
  },
  {
   "cell_type": "code",
   "execution_count": 23,
   "metadata": {},
   "outputs": [
    {
     "data": {
      "image/png": "[encoded data removed]",
      "text/plain": [
       "<Figure size 432x288 with 1 Axes>"
      ]
     },
     "metadata": {},
     "output_type": "display_data"
    }
   ],
   "source": [
    "plt.plot([10,20,50,100,200,500],[94.39,95.78,96.64,96.91,97.0,97.09])\n",
    "plt.ylabel('Testing Accuracy')\n",
    "plt.xlabel(\"No of Trees in Forest\")\n",
    "plt.title(\"Testing Accuracy VS No of Trees Plot For Random Forest\")\n",
    "plt.show()"
   ]
  },
  {
   "cell_type": "code",
   "execution_count": 25,
   "metadata": {},
   "outputs": [
    {
     "data": {
      "image/png": "[encoded data removed]",
      "text/plain": [
       "<Figure size 432x288 with 1 Axes>"
      ]
     },
     "metadata": {},
     "output_type": "display_data"
    }
   ],
   "source": [
    "plt.plot([10,20,50,100,200,500],[94.97,96.09,96.91,97.16,97.26,97.37],'ro')\n",
    "plt.ylabel('Validation Accuracy')\n",
    "plt.xlabel(\"No of Trees in Forest\")\n",
    "plt.title(\"Validation Accuracy VS No of Trees Plot For Random Forest\")\n",
    "plt.show()"
   ]
  },
  {
   "cell_type": "markdown",
   "metadata": {},
   "source": [
    "## SUPPORT VECTOR MACHINE"
   ]
  },
  {
   "cell_type": "code",
   "execution_count": 11,
   "metadata": {},
   "outputs": [
    {
     "name": "stdout",
     "output_type": "stream",
     "text": [
      "Val Accuracy: 98.11999999999999\n",
      "Test Accuracy: 97.98\n",
      "USPS Test Accuracy: 41.752087604380215\n",
      "[[ 973    0    1    0    0    2    1    1    2    0]\n",
      " [   0 1127    3    1    0    1    1    0    2    0]\n",
      " [   5    1 1013    0    1    0    1    7    3    1]\n",
      " [   0    0    2  992    0    3    0    6    6    1]\n",
      " [   0    0    5    0  962    0    2    0    2   11]\n",
      " [   2    0    0   10    2  867    4    1    4    2]\n",
      " [   5    2    0    0    2    3  945    0    1    0]\n",
      " [   0    6    9    2    2    0    0  998    1   10]\n",
      " [   3    0    3    6    5    2    1    3  949    2]\n",
      " [   4    4    0    7   11    1    0    7    3  972]]\n",
      "Normalized confusion matrix\n",
      "[[9.92857143e-01 0.00000000e+00 1.02040816e-03 0.00000000e+00\n",
      "  0.00000000e+00 2.04081633e-03 1.02040816e-03 1.02040816e-03\n",
      "  2.04081633e-03 0.00000000e+00]\n",
      " [0.00000000e+00 9.92951542e-01 2.64317181e-03 8.81057269e-04\n",
      "  0.00000000e+00 8.81057269e-04 8.81057269e-04 0.00000000e+00\n",
      "  1.76211454e-03 0.00000000e+00]\n",
      " [4.84496124e-03 9.68992248e-04 9.81589147e-01 0.00000000e+00\n",
      "  9.68992248e-04 0.00000000e+00 9.68992248e-04 6.78294574e-03\n",
      "  2.90697674e-03 9.68992248e-04]\n",
      " [0.00000000e+00 0.00000000e+00 1.98019802e-03 9.82178218e-01\n",
      "  0.00000000e+00 2.97029703e-03 0.00000000e+00 5.94059406e-03\n",
      "  5.94059406e-03 9.90099010e-04]\n",
      " [0.00000000e+00 0.00000000e+00 5.09164969e-03 0.00000000e+00\n",
      "  9.79633401e-01 0.00000000e+00 2.03665988e-03 0.00000000e+00\n",
      "  2.03665988e-03 1.12016293e-02]\n",
      " [2.24215247e-03 0.00000000e+00 0.00000000e+00 1.12107623e-02\n",
      "  2.24215247e-03 9.71973094e-01 4.48430493e-03 1.12107623e-03\n",
      "  4.48430493e-03 2.24215247e-03]\n",
      " [5.21920668e-03 2.08768267e-03 0.00000000e+00 0.00000000e+00\n",
      "  2.08768267e-03 3.13152401e-03 9.86430063e-01 0.00000000e+00\n",
      "  1.04384134e-03 0.00000000e+00]\n",
      " [0.00000000e+00 5.83657588e-03 8.75486381e-03 1.94552529e-03\n",
      "  1.94552529e-03 0.00000000e+00 0.00000000e+00 9.70817121e-01\n",
      "  9.72762646e-04 9.72762646e-03]\n",
      " [3.08008214e-03 0.00000000e+00 3.08008214e-03 6.16016427e-03\n",
      "  5.13347023e-03 2.05338809e-03 1.02669405e-03 3.08008214e-03\n",
      "  9.74332649e-01 2.05338809e-03]\n",
      " [3.96432111e-03 3.96432111e-03 0.00000000e+00 6.93756194e-03\n",
      "  1.09018831e-02 9.91080278e-04 0.00000000e+00 6.93756194e-03\n",
      "  2.97324083e-03 9.63330030e-01]]\n"
     ]
    },
    {
     "data": {
      "image/png": "[encoded data removed]",
      "text/plain": [
       "<Figure size 432x288 with 2 Axes>"
      ]
     },
     "metadata": {},
     "output_type": "display_data"
    }
   ],
   "source": [
    "svm = SVC(kernel='rbf', C=2, gamma = 0.01,verbose=0);\n",
    "svm.fit(train_f, train_label)\n",
    "svm_val = svm.predict(val_f)\n",
    "#rf_val\n",
    "print(\"Val Accuracy:\", np.mean(val_label == svm_val) * 100.)\n",
    "svm_test = svm.predict(test_f)\n",
    "print(\"Test Accuracy:\", np.mean(test_label == svm_test) * 100.)\n",
    "svm_uspstest = svm.predict(usps_tf)\n",
    "print(\"USPS Test Accuracy:\", np.mean(svm_uspstest == usps_tlabel) * 100.)\n",
    "cm = confusion_matrix(test_label, svm_test)\n",
    "print(cm)\n",
    "class_n = np.arange(0,10)\n",
    "plot_confusion_matrix(cm, classes=class_n, normalize=True,\n",
    "                      title='Normalized confusion matrix')"
   ]
  },
  {
   "cell_type": "markdown",
   "metadata": {},
   "source": [
    "## LOGISTIC REGRESSION"
   ]
  },
  {
   "cell_type": "code",
   "execution_count": 10,
   "metadata": {},
   "outputs": [
    {
     "data": {
      "text/plain": [
       "<matplotlib.image.AxesImage at 0x18d8c70d9e8>"
      ]
     },
     "execution_count": 10,
     "metadata": {},
     "output_type": "execute_result"
    },
    {
     "data": {
      "image/png": "[encoded data removed]",
      "text/plain": [
       "<Figure size 432x288 with 1 Axes>"
      ]
     },
     "metadata": {},
     "output_type": "display_data"
    }
   ],
   "source": [
    "exampleNumber = 2\n",
    "example = training_data[0][exampleNumber,:] #Then we load that example.\n",
    "plt.imshow(np.reshape(example,[28,28])) #Next we reshape it to 28x28 and display it."
   ]
  },
  {
   "cell_type": "code",
   "execution_count": 11,
   "metadata": {},
   "outputs": [],
   "source": [
    "def softmax(z):\n",
    "    z = z - np.max(z)\n",
    "    sm = (np.exp(z).T / np.sum(np.exp(z),axis=1)).T\n",
    "    return sm\n",
    "def regression(train_f,train_label):\n",
    "    lamda = 0.05\n",
    "    epochs = 1000\n",
    "    learningRate = 0.01\n",
    "    batch_size=32\n",
    "    m= train_f.shape[0]\n",
    "    losses = []\n",
    "    w = np.zeros([train_f.shape[1],10])\n",
    "    b = np.random.random([10])\n",
    "    #w.shape\n",
    "    for i in range(0,epochs):\n",
    "        z = np.dot(train_f,w)+b\n",
    "        softm = softmax(z)\n",
    "        loss = np.sum(to_categorical(train_label) * np.log(softm))\n",
    "        loss = -(loss)/m\n",
    "        loss += (lamda/2)*np.sum(w*w) \n",
    "        grad = (-1 / m) * np.dot(train_f.T,(to_categorical(train_label) - softm))\n",
    "        grad += lamda*w \n",
    "        losses.append(loss)\n",
    "        w = w - (learningRate * grad)\n",
    "    print(loss)\n",
    "    \n",
    "    plt.plot(losses)   \n",
    "    train_pred = softmax(np.dot(train_f,w) + b)\n",
    "    train_pred = np.argmax(train_pred,axis=1)\n",
    "    train_acc = np.mean(train_label == train_pred) * 100.\n",
    "    print('Training accuracy:', train_acc)\n",
    "    test_pred = softmax(np.dot(test_f,w) + b)\n",
    "    test_pred = np.argmax(test_pred,axis=1)\n",
    "    test_acc = np.mean(test_label == test_pred) * 100.\n",
    "    print('Testing accuracy:', test_acc)\n",
    "    \n"
   ]
  },
  {
   "cell_type": "code",
   "execution_count": 12,
   "metadata": {},
   "outputs": [
    {
     "name": "stdout",
     "output_type": "stream",
     "text": [
      "0.9246478975002514\n",
      "Training accuracy: 85.542\n",
      "Training accuracy: 86.75\n"
     ]
    },
    {
     "data": {
      "image/png": "[encoded data removed]",
      "text/plain": [
       "<Figure size 432x288 with 1 Axes>"
      ]
     },
     "metadata": {},
     "output_type": "display_data"
    }
   ],
   "source": [
    "regression(train_f,train_label)"
   ]
  },
  {
   "cell_type": "code",
   "execution_count": null,
   "metadata": {},
   "outputs": [],
   "source": []
  }
 ],
 "metadata": {
  "kernelspec": {
   "display_name": "Python 3",
   "language": "python",
   "name": "python3"
  },
  "language_info": {
   "codemirror_mode": {
    "name": "ipython",
    "version": 3
   },
   "file_extension": ".py",
   "mimetype": "text/x-python",
   "name": "python",
   "nbconvert_exporter": "python",
   "pygments_lexer": "ipython3",
   "version": "3.6.6"
  }
 },
 "nbformat": 4,
 "nbformat_minor": 2
}
